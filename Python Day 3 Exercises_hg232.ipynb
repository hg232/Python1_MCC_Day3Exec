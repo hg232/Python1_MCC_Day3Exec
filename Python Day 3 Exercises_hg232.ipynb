{
 "cells": [
  {
   "cell_type": "markdown",
   "metadata": {},
   "source": [
    "Create a dictionary named pairs with key value pairs of hello and fire, 3 and seven, strong and 45"
   ]
  },
  {
   "cell_type": "code",
   "execution_count": 12,
   "metadata": {},
   "outputs": [],
   "source": [
    "pairs = {'hello': 'fire', 3 : 'seven', 'strong': 45}\n"
   ]
  },
  {
   "cell_type": "markdown",
   "metadata": {},
   "source": [
    "Print the dictionary pairs out"
   ]
  },
  {
   "cell_type": "code",
   "execution_count": 13,
   "metadata": {},
   "outputs": [
    {
     "name": "stdout",
     "output_type": "stream",
     "text": [
      "{'hello': 'fire', 3: 'seven', 'strong': 45}\n"
     ]
    }
   ],
   "source": [
    "print(pairs)"
   ]
  },
  {
   "cell_type": "markdown",
   "metadata": {},
   "source": [
    "Add a new pair into the dictionary called pairs. Add welcome and 56"
   ]
  },
  {
   "cell_type": "code",
   "execution_count": 14,
   "metadata": {},
   "outputs": [
    {
     "data": {
      "text/plain": [
       "{'hello': 'fire', 3: 'seven', 'strong': 45, 'welcome': 56}"
      ]
     },
     "execution_count": 14,
     "metadata": {},
     "output_type": "execute_result"
    }
   ],
   "source": [
    "pairs['welcome'] = 56\n",
    "pairs"
   ]
  },
  {
   "cell_type": "markdown",
   "metadata": {},
   "source": [
    "Delete one item from the Dictionary and print it out"
   ]
  },
  {
   "cell_type": "code",
   "execution_count": 15,
   "metadata": {},
   "outputs": [
    {
     "data": {
      "text/plain": [
       "{'hello': 'fire', 3: 'seven', 'strong': 45}"
      ]
     },
     "execution_count": 15,
     "metadata": {},
     "output_type": "execute_result"
    }
   ],
   "source": [
    "del pairs['welcome']\n",
    "pairs"
   ]
  },
  {
   "cell_type": "markdown",
   "metadata": {},
   "source": [
    "Pull out one item from the dicitonary"
   ]
  },
  {
   "cell_type": "code",
   "execution_count": 16,
   "metadata": {},
   "outputs": [
    {
     "name": "stdout",
     "output_type": "stream",
     "text": [
      "45\n"
     ]
    }
   ],
   "source": [
    "print(pairs['strong'])"
   ]
  },
  {
   "cell_type": "code",
   "execution_count": null,
   "metadata": {},
   "outputs": [],
   "source": [
    "Try to find out if the key called hello exist. Print out the key is found if it is there otherwise print out the key is not there."
   ]
  },
  {
   "cell_type": "code",
   "execution_count": 19,
   "metadata": {},
   "outputs": [
    {
     "name": "stdout",
     "output_type": "stream",
     "text": [
      "Key is found\n"
     ]
    }
   ],
   "source": [
    "key = 'hello'\n",
    "if key in pairs: \n",
    "    print(\"Key is found\")\n",
    "else: \n",
    "    print(\"Key not there\")"
   ]
  },
  {
   "cell_type": "markdown",
   "metadata": {},
   "source": [
    "Please loop through the dictionary and print out each value. "
   ]
  },
  {
   "cell_type": "code",
   "execution_count": 43,
   "metadata": {},
   "outputs": [
    {
     "name": "stdout",
     "output_type": "stream",
     "text": [
      "fire\n",
      "seven\n",
      "45\n"
     ]
    }
   ],
   "source": [
    "#for i in pairs.values():\n",
    "    #print(pairs['hello'], pairs[3], pairs['strong'])\n",
    "    \n",
    "for key, value in pairs.items():\n",
    "    print(value)"
   ]
  },
  {
   "cell_type": "markdown",
   "metadata": {},
   "source": [
    "Please loop through the dictionary and print out each key."
   ]
  },
  {
   "cell_type": "code",
   "execution_count": 42,
   "metadata": {},
   "outputs": [
    {
     "name": "stdout",
     "output_type": "stream",
     "text": [
      "hello\n",
      "3\n",
      "strong\n"
     ]
    }
   ],
   "source": [
    "for key, value in pairs.items():\n",
    "    print(key)"
   ]
  },
  {
   "cell_type": "markdown",
   "metadata": {},
   "source": [
    "Please loop through the dictionary and print out each key and value pair. "
   ]
  },
  {
   "cell_type": "code",
   "execution_count": 50,
   "metadata": {},
   "outputs": [
    {
     "name": "stdout",
     "output_type": "stream",
     "text": [
      "hello fire > 3 seven > strong 45 > "
     ]
    }
   ],
   "source": [
    "for key, value in pairs.items():\n",
    "    print(key, value, end=' > ')"
   ]
  },
  {
   "cell_type": "markdown",
   "metadata": {},
   "source": [
    "Make a copy of this dictionary and store it as pairs2"
   ]
  },
  {
   "cell_type": "code",
   "execution_count": 51,
   "metadata": {},
   "outputs": [
    {
     "name": "stdout",
     "output_type": "stream",
     "text": [
      "{'hello': 'fire', 3: 'seven', 'strong': 45}\n"
     ]
    }
   ],
   "source": [
    "pairs2 = pairs.copy()\n",
    "print(pairs2)"
   ]
  },
  {
   "cell_type": "markdown",
   "metadata": {},
   "source": [
    "Please make a nested dictionary called Parent with 2 children"
   ]
  },
  {
   "cell_type": "code",
   "execution_count": 56,
   "metadata": {},
   "outputs": [
    {
     "data": {
      "text/plain": [
       "{'Parent': {'name': 'cisco'},\n",
       " 'child1': {'name': 'yaz'},\n",
       " 'child2': {'name': 'cher'}}"
      ]
     },
     "execution_count": 56,
     "metadata": {},
     "output_type": "execute_result"
    }
   ],
   "source": [
    "\n",
    "parents = {\n",
    "    \"Parent\" : {\n",
    "    \"name\" : \"cisco\"\n",
    "    }, \n",
    "    \"child1\" : {\n",
    "    \"name\" : \"yaz\"\n",
    "    },\n",
    "    \"child2\" : {\n",
    "    \"name\" : \"cher\"\n",
    "    }\n",
    "}\n",
    "\n",
    "parents"
   ]
  },
  {
   "cell_type": "code",
   "execution_count": null,
   "metadata": {},
   "outputs": [],
   "source": []
  },
  {
   "cell_type": "code",
   "execution_count": null,
   "metadata": {},
   "outputs": [],
   "source": []
  }
 ],
 "metadata": {
  "kernelspec": {
   "display_name": "Python 3",
   "language": "python",
   "name": "python3"
  },
  "language_info": {
   "codemirror_mode": {
    "name": "ipython",
    "version": 3
   },
   "file_extension": ".py",
   "mimetype": "text/x-python",
   "name": "python",
   "nbconvert_exporter": "python",
   "pygments_lexer": "ipython3",
   "version": "3.7.6"
  }
 },
 "nbformat": 4,
 "nbformat_minor": 4
}
